{
 "cells": [
  {
   "cell_type": "markdown",
   "id": "20d00b0d",
   "metadata": {},
   "source": [
    "# 1. Simple MNIST CNN (2-2-23)\n",
    "\n",
    "Learned basics of tensorflow/keras: how to make a model using keras.Sequential, how to compile/fit. "
   ]
  },
  {
   "cell_type": "code",
   "execution_count": 1,
   "id": "51e2a777",
   "metadata": {},
   "outputs": [
    {
     "name": "stderr",
     "output_type": "stream",
     "text": [
      "2023-02-02 17:36:04.605331: I tensorflow/core/platform/cpu_feature_guard.cc:193] This TensorFlow binary is optimized with oneAPI Deep Neural Network Library (oneDNN) to use the following CPU instructions in performance-critical operations:  SSE4.1 SSE4.2\n",
      "To enable them in other operations, rebuild TensorFlow with the appropriate compiler flags.\n"
     ]
    }
   ],
   "source": [
    "import numpy as np\n",
    "from tensorflow import keras\n",
    "from tensorflow.keras import layers"
   ]
  },
  {
   "cell_type": "code",
   "execution_count": 2,
   "id": "bb7369e1",
   "metadata": {},
   "outputs": [
    {
     "name": "stdout",
     "output_type": "stream",
     "text": [
      "x_train shape: (60000, 28, 28, 1)\n",
      "60000 train samples\n",
      "10000 test samples\n"
     ]
    }
   ],
   "source": [
    "num_classes = 10 #10 digits/classes\n",
    "input_shape = (28, 28, 1) #width/height/number of colors (grayscale)\n",
    "\n",
    "(x_train, y_train), (x_test, y_test) = keras.datasets.mnist.load_data() #get data\n",
    "\n",
    "x_train = x_train.astype(\"float32\") / 255 #scale data\n",
    "x_test = x_test.astype(\"float32\") / 255\n",
    "x_train = np.expand_dims(x_train, -1) #assert x.shape() == input_shape \n",
    "x_test = np.expand_dims(x_test, -1) #-1 means make shape \"work\"\n",
    "\n",
    "print(\"x_train shape:\", x_train.shape)\n",
    "print(x_train.shape[0], \"train samples\")\n",
    "print(x_test.shape[0], \"test samples\")\n",
    "\n",
    "y_train = keras.utils.to_categorical(y_train, num_classes) #one hot\n",
    "y_test = keras.utils.to_categorical(y_test, num_classes)"
   ]
  },
  {
   "cell_type": "code",
   "execution_count": 3,
   "id": "2dca87f3",
   "metadata": {},
   "outputs": [
    {
     "name": "stdout",
     "output_type": "stream",
     "text": [
      "Model: \"sequential\"\n",
      "_________________________________________________________________\n",
      " Layer (type)                Output Shape              Param #   \n",
      "=================================================================\n",
      " conv2d (Conv2D)             (None, 26, 26, 32)        320       \n",
      "                                                                 \n",
      " max_pooling2d (MaxPooling2D  (None, 13, 13, 32)       0         \n",
      " )                                                               \n",
      "                                                                 \n",
      " conv2d_1 (Conv2D)           (None, 11, 11, 64)        18496     \n",
      "                                                                 \n",
      " max_pooling2d_1 (MaxPooling  (None, 5, 5, 64)         0         \n",
      " 2D)                                                             \n",
      "                                                                 \n",
      " flatten (Flatten)           (None, 1600)              0         \n",
      "                                                                 \n",
      " dropout (Dropout)           (None, 1600)              0         \n",
      "                                                                 \n",
      " dense (Dense)               (None, 10)                16010     \n",
      "                                                                 \n",
      "=================================================================\n",
      "Total params: 34,826\n",
      "Trainable params: 34,826\n",
      "Non-trainable params: 0\n",
      "_________________________________________________________________\n"
     ]
    },
    {
     "name": "stderr",
     "output_type": "stream",
     "text": [
      "2023-02-02 17:43:52.718462: I tensorflow/core/platform/cpu_feature_guard.cc:193] This TensorFlow binary is optimized with oneAPI Deep Neural Network Library (oneDNN) to use the following CPU instructions in performance-critical operations:  SSE4.1 SSE4.2\n",
      "To enable them in other operations, rebuild TensorFlow with the appropriate compiler flags.\n"
     ]
    }
   ],
   "source": [
    "model = keras.Sequential(\n",
    "    [\n",
    "        keras.Input(shape=input_shape),\n",
    "        #convolutional layer with valid padding, (1,1) stride\n",
    "        layers.Conv2D(32, kernel_size=(3, 3), activation=\"relu\"),\n",
    "        #apply max pooling\n",
    "        layers.MaxPooling2D(pool_size=(2, 2)),\n",
    "        layers.Conv2D(64, kernel_size=(3, 3), activation=\"relu\"),\n",
    "        layers.MaxPooling2D(pool_size=(2, 2)),\n",
    "        layers.Flatten(),\n",
    "        #dropout half and scale others up\n",
    "        layers.Dropout(0.5),\n",
    "        layers.Dense(num_classes, activation=\"softmax\"),\n",
    "    ]\n",
    ")\n",
    "\n",
    "model.summary()"
   ]
  },
  {
   "cell_type": "code",
   "execution_count": 4,
   "id": "6c18cff8",
   "metadata": {},
   "outputs": [
    {
     "name": "stdout",
     "output_type": "stream",
     "text": [
      "Epoch 1/15\n",
      "422/422 [==============================] - 12s 27ms/step - loss: 0.3722 - accuracy: 0.8875 - val_loss: 0.0848 - val_accuracy: 0.9782\n",
      "Epoch 2/15\n",
      "422/422 [==============================] - 11s 27ms/step - loss: 0.1118 - accuracy: 0.9658 - val_loss: 0.0549 - val_accuracy: 0.9858\n",
      "Epoch 3/15\n",
      "422/422 [==============================] - 11s 25ms/step - loss: 0.0819 - accuracy: 0.9746 - val_loss: 0.0467 - val_accuracy: 0.9875\n",
      "Epoch 4/15\n",
      "422/422 [==============================] - 11s 27ms/step - loss: 0.0679 - accuracy: 0.9798 - val_loss: 0.0418 - val_accuracy: 0.9897\n",
      "Epoch 5/15\n",
      "422/422 [==============================] - 12s 29ms/step - loss: 0.0614 - accuracy: 0.9813 - val_loss: 0.0387 - val_accuracy: 0.9892\n",
      "Epoch 6/15\n",
      "422/422 [==============================] - 11s 25ms/step - loss: 0.0557 - accuracy: 0.9824 - val_loss: 0.0390 - val_accuracy: 0.9910\n",
      "Epoch 7/15\n",
      "422/422 [==============================] - 10s 23ms/step - loss: 0.0516 - accuracy: 0.9844 - val_loss: 0.0339 - val_accuracy: 0.9908\n",
      "Epoch 8/15\n",
      "422/422 [==============================] - 9s 21ms/step - loss: 0.0468 - accuracy: 0.9852 - val_loss: 0.0324 - val_accuracy: 0.9927\n",
      "Epoch 9/15\n",
      "422/422 [==============================] - 9s 21ms/step - loss: 0.0438 - accuracy: 0.9858 - val_loss: 0.0334 - val_accuracy: 0.9910\n",
      "Epoch 10/15\n",
      "422/422 [==============================] - 9s 21ms/step - loss: 0.0423 - accuracy: 0.9867 - val_loss: 0.0310 - val_accuracy: 0.9910\n",
      "Epoch 11/15\n",
      "422/422 [==============================] - 9s 21ms/step - loss: 0.0393 - accuracy: 0.9871 - val_loss: 0.0323 - val_accuracy: 0.9912\n",
      "Epoch 12/15\n",
      "422/422 [==============================] - 9s 20ms/step - loss: 0.0368 - accuracy: 0.9879 - val_loss: 0.0291 - val_accuracy: 0.9920\n",
      "Epoch 13/15\n",
      "422/422 [==============================] - 9s 20ms/step - loss: 0.0354 - accuracy: 0.9883 - val_loss: 0.0311 - val_accuracy: 0.9917\n",
      "Epoch 14/15\n",
      "422/422 [==============================] - 9s 21ms/step - loss: 0.0331 - accuracy: 0.9892 - val_loss: 0.0299 - val_accuracy: 0.9925\n",
      "Epoch 15/15\n",
      "422/422 [==============================] - 9s 21ms/step - loss: 0.0317 - accuracy: 0.9898 - val_loss: 0.0281 - val_accuracy: 0.9925\n"
     ]
    },
    {
     "data": {
      "text/plain": [
       "<keras.callbacks.History at 0x17dd52800>"
      ]
     },
     "execution_count": 4,
     "metadata": {},
     "output_type": "execute_result"
    }
   ],
   "source": [
    "batch_size = 128\n",
    "epochs = 15\n",
    "\n",
    "model.compile(loss=\"categorical_crossentropy\", optimizer=\"adam\", metrics=[\"accuracy\"])\n",
    "\n",
    "model.fit(x_train, y_train, batch_size=batch_size, epochs=epochs, validation_split=0.1)"
   ]
  },
  {
   "cell_type": "code",
   "execution_count": 5,
   "id": "8fca48e1",
   "metadata": {},
   "outputs": [
    {
     "name": "stdout",
     "output_type": "stream",
     "text": [
      "Test loss: 0.024307195097208023\n",
      "Test accuracy: 0.991100013256073\n"
     ]
    }
   ],
   "source": [
    "score = model.evaluate(x_test, y_test, verbose=0)\n",
    "print(\"Test loss:\", score[0])\n",
    "print(\"Test accuracy:\", score[1])"
   ]
  },
  {
   "cell_type": "code",
   "execution_count": null,
   "id": "e792a4cb",
   "metadata": {},
   "outputs": [],
   "source": []
  }
 ],
 "metadata": {
  "kernelspec": {
   "display_name": "Python 3 (ipykernel)",
   "language": "python",
   "name": "python3"
  },
  "language_info": {
   "codemirror_mode": {
    "name": "ipython",
    "version": 3
   },
   "file_extension": ".py",
   "mimetype": "text/x-python",
   "name": "python",
   "nbconvert_exporter": "python",
   "pygments_lexer": "ipython3",
   "version": "3.10.8"
  }
 },
 "nbformat": 4,
 "nbformat_minor": 5
}
